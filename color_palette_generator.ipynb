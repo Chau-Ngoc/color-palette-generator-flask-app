{
 "cells": [
  {
   "cell_type": "code",
   "execution_count": 1,
   "id": "initial_id",
   "metadata": {
    "ExecuteTime": {
     "end_time": "2024-02-25T13:28:20.446023448Z",
     "start_time": "2024-02-25T13:28:20.172760270Z"
    }
   },
   "outputs": [],
   "source": [
    "import json\n",
    "import os\n",
    "\n",
    "from dotenv import load_dotenv\n",
    "from IPython.display import HTML, display\n",
    "from openai import OpenAI"
   ]
  },
  {
   "cell_type": "code",
   "outputs": [],
   "source": [
    "def display_colors(colors: list):\n",
    "    display(\n",
    "        HTML(\n",
    "            \" \".join(\n",
    "                f'<span style=\"color: {color}\">{chr(9608) * 8}</span>'\n",
    "                for color in colors\n",
    "            )\n",
    "        )\n",
    "    )"
   ],
   "metadata": {
    "collapsed": false,
    "ExecuteTime": {
     "end_time": "2024-02-25T13:28:20.452955241Z",
     "start_time": "2024-02-25T13:28:20.447911203Z"
    }
   },
   "id": "49321682bf8c98fe",
   "execution_count": 2
  },
  {
   "cell_type": "code",
   "execution_count": 3,
   "id": "9d3d56708427b6ae",
   "metadata": {
    "collapsed": false,
    "ExecuteTime": {
     "end_time": "2024-02-25T13:28:20.486740433Z",
     "start_time": "2024-02-25T13:28:20.450141082Z"
    }
   },
   "outputs": [],
   "source": [
    "load_dotenv()\n",
    "openai_api_key = os.environ.get(\"OPENAI_API_KEY\")\n",
    "\n",
    "client = OpenAI(api_key=openai_api_key)"
   ]
  },
  {
   "cell_type": "code",
   "execution_count": 4,
   "id": "9cd4c59060c6e817",
   "metadata": {
    "collapsed": false,
    "ExecuteTime": {
     "end_time": "2024-02-25T13:28:20.493391973Z",
     "start_time": "2024-02-25T13:28:20.490487599Z"
    }
   },
   "outputs": [],
   "source": [
    "def generate_colors_from_prompt(prompt):\n",
    "    instruction = f\"\"\"\n",
    "You are a color palette generating bot. Your job is to understand the text prompt from user and then generate color palette from it.\n",
    "The generated color palette should contain 2 to 8 colors\n",
    "\n",
    "Q: Convert the following verbal description of a color palette to a list of hexadecimal color codes: What are the colors for a snowy mountain in golden hour?\n",
    "A: [\"#2e5a65\", \"#6a9099\", \"#a8b8b8\", \"#8e6d4e\", \"#79371f\"]\n",
    "\n",
    "Q: Convert the following verbal description of a color palette to a list of hexadecimal color codes: a warm summer night\n",
    "A: [“#4B0082”, “#FFBF00”, “#DC143C”, “#CD7F32”, “#191970”]\n",
    "\n",
    "Desired format: a valid JSON array of hexadecimal color codes\n",
    "\n",
    "Q: Convert the following verbal description of a color palette to a list of hexadecimal color codes: {prompt}\n",
    "A:\n",
    "\"\"\"\n",
    "\n",
    "    response = client.completions.create(\n",
    "        model=\"gpt-3.5-turbo-instruct\", prompt=instruction, max_tokens=200\n",
    "    )\n",
    "    return json.loads(str.strip(response.choices[0].text))"
   ]
  },
  {
   "cell_type": "code",
   "outputs": [],
   "source": [
    "colors = generate_colors_from_prompt(\"Colors of the Italy flag\")"
   ],
   "metadata": {
    "collapsed": false,
    "ExecuteTime": {
     "end_time": "2024-02-25T13:31:53.437111150Z",
     "start_time": "2024-02-25T13:31:52.731295798Z"
    }
   },
   "id": "e7184279ab7839ac",
   "execution_count": 9
  },
  {
   "cell_type": "code",
   "outputs": [
    {
     "data": {
      "text/plain": "<IPython.core.display.HTML object>",
      "text/html": "<span style=\"color: #009246\">████████</span> <span style=\"color: #FFFFFF\">████████</span> <span style=\"color: #CE2B37\">████████</span>"
     },
     "metadata": {},
     "output_type": "display_data"
    }
   ],
   "source": [
    "display_colors(colors)"
   ],
   "metadata": {
    "collapsed": false,
    "ExecuteTime": {
     "end_time": "2024-02-25T13:31:54.041284781Z",
     "start_time": "2024-02-25T13:31:54.029713197Z"
    }
   },
   "id": "71b1c65240f43b1e",
   "execution_count": 10
  },
  {
   "cell_type": "code",
   "outputs": [],
   "source": [],
   "metadata": {
    "collapsed": false
   },
   "id": "abb91a9dbc57b4ab"
  }
 ],
 "metadata": {
  "kernelspec": {
   "display_name": "Python 3 (ipykernel)",
   "language": "python",
   "name": "python3"
  },
  "language_info": {
   "codemirror_mode": {
    "name": "ipython",
    "version": 3
   },
   "file_extension": ".py",
   "mimetype": "text/x-python",
   "name": "python",
   "nbconvert_exporter": "python",
   "pygments_lexer": "ipython3",
   "version": "3.10.12"
  }
 },
 "nbformat": 4,
 "nbformat_minor": 5
}
